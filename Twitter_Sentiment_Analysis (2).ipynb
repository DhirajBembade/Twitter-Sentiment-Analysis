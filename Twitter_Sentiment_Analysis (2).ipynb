{
  "nbformat": 4,
  "nbformat_minor": 0,
  "metadata": {
    "colab": {
      "provenance": [],
      "gpuType": "T4",
      "private_outputs": true
    },
    "kernelspec": {
      "name": "python3",
      "display_name": "Python 3"
    },
    "language_info": {
      "name": "python"
    },
    "accelerator": "TPU"
  },
  "cells": [
    {
      "cell_type": "markdown",
      "source": [
        "# **What is Sentiment Analysis**"
      ],
      "metadata": {
        "id": "F3TNkjNG8zZj"
      }
    },
    {
      "cell_type": "markdown",
      "source": [
        "Sentiment analysis (also known as opinion mining) is one of the many applications of Natural Language Processing. It is a set of methods and techniques used for extracting subjective information from text or speech, such as opinions or attitudes. In simple terms, it involves classifying a piece of text as positive, negative or neutral."
      ],
      "metadata": {
        "id": "u9SMho4g84rx"
      }
    },
    {
      "cell_type": "markdown",
      "source": [
        "![1549269497113.png](data:image/png;base64,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)"
      ],
      "metadata": {
        "id": "0odhPio79WWg"
      }
    },
    {
      "cell_type": "markdown",
      "source": [
        "# **Problem statement**"
      ],
      "metadata": {
        "id": "_pM42EmL8jyD"
      }
    },
    {
      "cell_type": "markdown",
      "source": [
        "The objective of this task is to detect hate speech in tweets. For the sake of simplicity, we say a tweet contains hate speech if it has a racist or sexist sentiment associated with it. So, the task is to classify racist or sexist tweets from other tweets.\n",
        "Formally, given a training sample of tweets and labels, where label ‘1’ denotes the tweet is racist/sexist and label ‘0’ denotes the tweet is not racist/sexist, your objective is to predict the labels on the labels on the given test dataset."
      ],
      "metadata": {
        "id": "PFC1oGpW8n2A"
      }
    },
    {
      "cell_type": "markdown",
      "source": [
        "# **Importing required libraries**"
      ],
      "metadata": {
        "id": "FNUP1YvVFlUd"
      }
    },
    {
      "cell_type": "code",
      "execution_count": null,
      "metadata": {
        "id": "3kF_moEWEzHk"
      },
      "outputs": [],
      "source": [
        "import re\n",
        "import nltk\n",
        "import string\n",
        "import numpy as np\n",
        "import warnings\n",
        "import pandas as pd\n",
        "import numpy as np\n",
        "import seaborn as sns\n",
        "import plotly.express as px\n",
        "import matplotlib.pyplot as plt\n",
        "%matplotlib inline\n",
        "pd.set_option(\"display.max_colwidth\",200)"
      ]
    },
    {
      "cell_type": "markdown",
      "source": [
        "# **Importing dataset for project**"
      ],
      "metadata": {
        "id": "z3-29h87Fwkp"
      }
    },
    {
      "cell_type": "code",
      "source": [
        "df_train=pd.read_csv(\"/content/train_tweets_data.csv\")\n",
        "df_test=pd.read_csv(\"/content/test_tweets_data.csv\")"
      ],
      "metadata": {
        "id": "5zghJyfcF0mB"
      },
      "execution_count": null,
      "outputs": []
    },
    {
      "cell_type": "markdown",
      "source": [
        "**df_test is inference data.There are nan values in the label data.**"
      ],
      "metadata": {
        "id": "KCu7-ULV3r-V"
      }
    },
    {
      "cell_type": "markdown",
      "source": [
        "# **Concatination of train and test data**"
      ],
      "metadata": {
        "id": "JQqTnm-TGb_u"
      }
    },
    {
      "cell_type": "code",
      "source": [
        "df=pd.concat([df_train,df_test],axis=0,ignore_index=True)"
      ],
      "metadata": {
        "id": "8ETZd6sHGbpG"
      },
      "execution_count": null,
      "outputs": []
    },
    {
      "cell_type": "markdown",
      "source": [
        "# **Data understanding**"
      ],
      "metadata": {
        "id": "JAQST_-lG18p"
      }
    },
    {
      "cell_type": "code",
      "source": [
        "df.head()"
      ],
      "metadata": {
        "id": "wLD3u69EG1Px"
      },
      "execution_count": null,
      "outputs": []
    },
    {
      "cell_type": "code",
      "source": [
        "df.tail()"
      ],
      "metadata": {
        "id": "Sy4DUSVhG635"
      },
      "execution_count": null,
      "outputs": []
    },
    {
      "cell_type": "code",
      "source": [
        "df.shape"
      ],
      "metadata": {
        "id": "V1FZ0rDjG88x"
      },
      "execution_count": null,
      "outputs": []
    },
    {
      "cell_type": "markdown",
      "source": [
        "**There are 49159 rows and 3 features in whole dataset**"
      ],
      "metadata": {
        "id": "S6XPyZux1cVE"
      }
    },
    {
      "cell_type": "code",
      "source": [
        "df.info()"
      ],
      "metadata": {
        "id": "k7tdTny_G_0K"
      },
      "execution_count": null,
      "outputs": []
    },
    {
      "cell_type": "markdown",
      "source": [
        "**This dataframe contain tweet as categorical feature and label and id are numeric features.**"
      ],
      "metadata": {
        "id": "QDxo-8eg1j9z"
      }
    },
    {
      "cell_type": "code",
      "source": [
        "df.dtypes"
      ],
      "metadata": {
        "id": "TJq5co1PHA5x"
      },
      "execution_count": null,
      "outputs": []
    },
    {
      "cell_type": "code",
      "source": [
        "df[\"label\"].value_counts()"
      ],
      "metadata": {
        "id": "3lFOyCAIHBVp"
      },
      "execution_count": null,
      "outputs": []
    },
    {
      "cell_type": "markdown",
      "source": [
        "**This dataframe contain 0 and 1 class with inbalance records are there.Here class 0 is majortity while class 1 as minority class.**"
      ],
      "metadata": {
        "id": "rfj-PpoG2IvK"
      }
    },
    {
      "cell_type": "markdown",
      "source": [
        "# **Checking length of text**"
      ],
      "metadata": {
        "id": "632IhpvqHg6Q"
      }
    },
    {
      "cell_type": "code",
      "source": [
        "df1=df.copy()"
      ],
      "metadata": {
        "id": "lW_zjsJfIV4g"
      },
      "execution_count": null,
      "outputs": []
    },
    {
      "cell_type": "code",
      "source": [
        "#Checking length of the text in tweet features.\n",
        "length=df_train[\"length\"]=df_train[\"tweet\"].apply(lambda x:len(x))\n",
        "length"
      ],
      "metadata": {
        "id": "lRhqgR2uHBTB"
      },
      "execution_count": null,
      "outputs": []
    },
    {
      "cell_type": "markdown",
      "source": [
        "# **Data cleaning process in NLP**"
      ],
      "metadata": {
        "id": "xL2h8Q-XH53v"
      }
    },
    {
      "cell_type": "markdown",
      "source": [
        "# **Converting text to lower case**"
      ],
      "metadata": {
        "id": "lAUbDo03H9-G"
      }
    },
    {
      "cell_type": "code",
      "source": [
        "df1[\"tweet\"]= df1['tweet'].apply(lambda x: \" \".join(x.lower()  for x in x.split()))\n",
        "df1\n"
      ],
      "metadata": {
        "id": "pEr9HSK1H5AO"
      },
      "execution_count": null,
      "outputs": []
    },
    {
      "cell_type": "markdown",
      "source": [
        "# **Removing symbol pattern in the dataframe**"
      ],
      "metadata": {
        "id": "OVZrw-ULIlKo"
      }
    },
    {
      "cell_type": "code",
      "source": [
        "def remove_pattern(input_text, pattern):\n",
        "    \"\"\"fuction to remove the tweeter handels\n",
        "     data = df[tweet]\"\"\"\n",
        "    r = re.findall(pattern, input_text)\n",
        "    for i in r:\n",
        "        input_text =  re.sub(i,\"\", input_text)\n",
        "    return input_text"
      ],
      "metadata": {
        "id": "D7ZKpcKbIhTX"
      },
      "execution_count": null,
      "outputs": []
    },
    {
      "cell_type": "code",
      "source": [
        "df1[\"tweet\"]=np.vectorize(remove_pattern)(df1[\"tweet\"], \"@[\\w]*\")"
      ],
      "metadata": {
        "id": "r4nkkba6JDmX"
      },
      "execution_count": null,
      "outputs": []
    },
    {
      "cell_type": "code",
      "source": [
        "df1"
      ],
      "metadata": {
        "id": "EeoJeII54Y70"
      },
      "execution_count": null,
      "outputs": []
    },
    {
      "cell_type": "markdown",
      "source": [
        "**From this above code we remove special pattern and also we can see that there are null value in the label data.**"
      ],
      "metadata": {
        "id": "stL4ksvv3gga"
      }
    },
    {
      "cell_type": "markdown",
      "source": [
        "# **Punctuation removal from tweet feature**"
      ],
      "metadata": {
        "id": "Vwy98pqjJiDf"
      }
    },
    {
      "cell_type": "code",
      "source": [
        "df1['tweet'] = df1['tweet'].str.replace(\"[^a-zA-Z#]\", \" \")\n",
        "df1"
      ],
      "metadata": {
        "id": "7w_yFBQzJd7W"
      },
      "execution_count": null,
      "outputs": []
    },
    {
      "cell_type": "markdown",
      "source": [
        "# **Stop word removal from given dataframe**"
      ],
      "metadata": {
        "id": "PRblP7utKCkx"
      }
    },
    {
      "cell_type": "code",
      "source": [
        "nltk.download('stopwords')\n",
        "from nltk.corpus import stopwords\n",
        "allstopwords = stopwords.words('english')\n",
        "df1[\"tweet\"]= df1[\"tweet\"].apply(lambda x: \" \".join(i for i in x.split() if i not in allstopwords))"
      ],
      "metadata": {
        "id": "5C_bsoR0KJnP"
      },
      "execution_count": null,
      "outputs": []
    },
    {
      "cell_type": "markdown",
      "source": [
        "# **Keeping words only size more than three**"
      ],
      "metadata": {
        "id": "j5CFzEPj7zLR"
      }
    },
    {
      "cell_type": "code",
      "source": [
        "df1[\"tweet\"] = df1[\"tweet\"].apply(lambda x: \" \".join(i for i in x.split()if len(i)>3))"
      ],
      "metadata": {
        "id": "2IZKIEDyKuvX"
      },
      "execution_count": null,
      "outputs": []
    },
    {
      "cell_type": "code",
      "source": [
        "df1"
      ],
      "metadata": {
        "id": "L3ggqLO_UReO"
      },
      "execution_count": null,
      "outputs": []
    },
    {
      "cell_type": "code",
      "source": [
        "import nltk\n",
        "nltk.download('punkt')\n",
        "mystring = df1[\"tweet\"]\n",
        "tokens1=re.sub(\"[a-zA-Z]\", \"\", str(df1[\"tweet\"]))\n",
        "tokens = nltk.word_tokenize(tokens1)"
      ],
      "metadata": {
        "id": "8igv8qx0Wsbr"
      },
      "execution_count": null,
      "outputs": []
    },
    {
      "cell_type": "code",
      "source": [
        "# # text = \"This is the first sentence. This is the second one. And this is the last one.\"\n",
        "# import nltk\n",
        "# from nltk.tokenize import sent_tokenize\n",
        "# sentences = sent_tokenize(str(df1[\"tweet\"]))\n",
        "# words = [word_tokenize(sent) for sent in sentences]\n",
        "# print(words)"
      ],
      "metadata": {
        "id": "gBaGRwv9Z7q-"
      },
      "execution_count": null,
      "outputs": []
    },
    {
      "cell_type": "code",
      "source": [
        "# import re\n",
        "\n",
        "# #replace each non-letter with empty string\n",
        "# x = re.sub('[^a-zA-Z]', ' ', str(df1[\"tweet\"]))\n",
        "\n",
        "# #display results\n",
        "# print(x)"
      ],
      "metadata": {
        "id": "kk45dUCccVrs"
      },
      "execution_count": null,
      "outputs": []
    },
    {
      "cell_type": "code",
      "source": [
        "# from textblob.blob import WordList\n",
        "# # Printing original list\n",
        "# print(\"Original list is : \" + str(words))\n",
        "\n",
        "# # initializing K\n",
        "# K = '1'\n",
        "\n",
        "# # using remove() to\n",
        "# # Remove K String from String List\n",
        "# while(K in words):\n",
        "#     words.remove(K)\n",
        "\n",
        "# # Printing modified list\n",
        "# print(\"Modified list is : \" + str(words))"
      ],
      "metadata": {
        "id": "93IImzNMl6J3"
      },
      "execution_count": null,
      "outputs": []
    },
    {
      "cell_type": "code",
      "source": [
        "df1"
      ],
      "metadata": {
        "id": "3w5fSqVUnZNY"
      },
      "execution_count": null,
      "outputs": []
    },
    {
      "cell_type": "markdown",
      "source": [
        "# **Lemmatization**"
      ],
      "metadata": {
        "id": "Usx7745mLFY4"
      }
    },
    {
      "cell_type": "code",
      "source": [
        "import nltk\n",
        "nltk.download(\"wordnet\")\n",
        "nltk.download(\"omw-1.4\")"
      ],
      "metadata": {
        "id": "uDeD_mhSLAl-"
      },
      "execution_count": null,
      "outputs": []
    },
    {
      "cell_type": "code",
      "source": [
        "#Implementation of lemmatization\n",
        "import nltk\n",
        "from nltk.stem import WordNetLemmatizer\n",
        "\n",
        "# Init the Wordnet Lemmatizer\n",
        "lemmatizer = WordNetLemmatizer()\n",
        "import textblob\n",
        "from textblob import Word\n",
        "df1[\"tweet\"]=df1[\"tweet\"].apply(lambda x: \",\".join([Word(word).lemmatize() for word in x.split()]))"
      ],
      "metadata": {
        "id": "uQ_8fmdILVBw"
      },
      "execution_count": null,
      "outputs": []
    },
    {
      "cell_type": "code",
      "source": [
        "#Checking the implementation\n",
        "df1"
      ],
      "metadata": {
        "id": "TE7TefLBL-Fv"
      },
      "execution_count": null,
      "outputs": []
    },
    {
      "cell_type": "code",
      "source": [
        "#Code to split the text in tweet feature.\n",
        "df_toan = df1[\"tweet\"] = df1['tweet'].apply(lambda x: x.split())\n",
        "df_toan.head()"
      ],
      "metadata": {
        "id": "h4iO86fcMRBI"
      },
      "execution_count": null,
      "outputs": []
    },
    {
      "cell_type": "code",
      "source": [
        "df2=df1.copy()"
      ],
      "metadata": {
        "id": "1jnxJ_NfMVJP"
      },
      "execution_count": null,
      "outputs": []
    },
    {
      "cell_type": "code",
      "source": [
        "for i in range(len(df2[\"tweet\"])):\n",
        "    df2[\"tweet\"][i] = ' '.join(df2[\"tweet\"][i])"
      ],
      "metadata": {
        "id": "WYwVR5eoMYUf"
      },
      "execution_count": null,
      "outputs": []
    },
    {
      "cell_type": "markdown",
      "source": [
        "# **EDA and Visualization**"
      ],
      "metadata": {
        "id": "fjSJALG6MmuW"
      }
    },
    {
      "cell_type": "markdown",
      "source": [
        "# **Wordcloud of all tweet**"
      ],
      "metadata": {
        "id": "82odvI3MMxb2"
      }
    },
    {
      "cell_type": "code",
      "source": [
        "import matplotlib.pyplot as plt\n",
        "all_words = ' '.join([text for text in df2['tweet']])\n",
        "from wordcloud import WordCloud\n",
        "wordcloud = WordCloud(width=1000, height=500, random_state=21, max_font_size=110).generate(all_words)\n",
        "\n",
        "plt.figure(figsize=(10, 7))\n",
        "plt.imshow(wordcloud, interpolation=\"bilinear\")\n",
        "plt.axis('off')\n",
        "plt.show()"
      ],
      "metadata": {
        "id": "JnWewWfIMj4V"
      },
      "execution_count": null,
      "outputs": []
    },
    {
      "cell_type": "markdown",
      "source": [
        "# **Wordcloud Graph Racist/Sexist Tweets**"
      ],
      "metadata": {
        "id": "Yl49EXF2NLzg"
      }
    },
    {
      "cell_type": "code",
      "source": [
        "from PIL import Image\n",
        "im = Image.open('/content/WhatsApp Image 2023-06-25 at 12.26.25 PM.jpeg')\n",
        "import numpy as np\n",
        "from PIL import Image\n",
        "from wordcloud import WordCloud\n",
        "import matplotlib.pyplot as plt\n",
        "\n",
        "twitter_mask = np.array(Image.open('/content/WhatsApp Image 2023-06-25 at 12.26.25 PM.jpeg'))\n",
        "\n",
        "wc = WordCloud(\n",
        "    background_color='white',\n",
        "    max_words=200,\n",
        "    mask=twitter_mask\n",
        ")\n",
        "\n",
        "wc.generate(' '.join(text for text in df2.loc[df2['label'] == 0, 'tweet']))\n",
        "\n",
        "plt.figure(figsize=(18, 10))\n",
        "plt.title('Top words for Twitter - Label=0', fontdict={'size': 22, 'verticalalignment': 'bottom'})\n",
        "plt.imshow(wc)\n",
        "plt.show()"
      ],
      "metadata": {
        "id": "HOLk5lfmNJ6W"
      },
      "execution_count": null,
      "outputs": []
    },
    {
      "cell_type": "code",
      "source": [
        "# function to collect hashtags\n",
        "def hashtag_extract(x):\n",
        "    hashtags = []\n",
        "    # Loop over the words in the tweet\n",
        "    for i in x:\n",
        "        ht = re.findall(r\"#(\\w+)\", i)\n",
        "        hashtags.append(ht)\n",
        "\n",
        "    return hashtags"
      ],
      "metadata": {
        "id": "9LH2HCFbUPSL"
      },
      "execution_count": null,
      "outputs": []
    },
    {
      "cell_type": "code",
      "source": [
        "# extracting hashtags from non racist/sexist tweets\n",
        "\n",
        "HT_non_racist = hashtag_extract(df2['tweet'][df2['label'] == 0])"
      ],
      "metadata": {
        "id": "k_f8EQvHUUcS"
      },
      "execution_count": null,
      "outputs": []
    },
    {
      "cell_type": "code",
      "source": [
        "# extracting hashtags from racist/sexist tweets\n",
        "HT_racist = hashtag_extract(df2['tweet'][df2['label'] == 1])"
      ],
      "metadata": {
        "id": "r0qUS0G8UYtW"
      },
      "execution_count": null,
      "outputs": []
    },
    {
      "cell_type": "code",
      "source": [
        "# unnesting list\n",
        "HT_non_racist = sum(HT_non_racist,[])\n",
        "HT_racist = sum(HT_racist,[])"
      ],
      "metadata": {
        "id": "YEL3pLZGUb_b"
      },
      "execution_count": null,
      "outputs": []
    },
    {
      "cell_type": "code",
      "source": [
        "#Non-Racist/Sexist Tweets\n",
        "a = nltk.FreqDist(HT_non_racist)\n",
        "d = pd.DataFrame({'Hashtag': list(a.keys()),\n",
        "                  'Count': list(a.values())})\n",
        "# selecting top 10 most frequent hashtags\n",
        "d = d.nlargest(columns=\"Count\", n = 10)\n",
        "plt.figure(figsize=(16,5))\n",
        "ax = sns.barplot(data=d, x= \"Hashtag\", y = \"Count\")\n",
        "ax.set(ylabel = 'Count')\n",
        "plt.show()"
      ],
      "metadata": {
        "id": "AONA90J7UeSo"
      },
      "execution_count": null,
      "outputs": []
    },
    {
      "cell_type": "markdown",
      "source": [
        "**Observatation:**\n",
        "\n",
        "1]Love word tweeted most of the time with # trend.\n",
        "\n",
        "2]cute word tweeted mininmum time with # trend"
      ],
      "metadata": {
        "id": "uciOXuk3_Kr_"
      }
    },
    {
      "cell_type": "code",
      "source": [
        "#Racist/Sexist Tweets\n",
        "\n",
        "b = nltk.FreqDist(HT_racist)\n",
        "e = pd.DataFrame({'Hashtag': list(b.keys()), 'Count': list(b.values())})\n",
        "# selecting top 10 most frequent hashtags\n",
        "e = e.nlargest(columns=\"Count\", n = 10)\n",
        "plt.figure(figsize=(16,5))\n",
        "ax = sns.barplot(data=e, x= \"Hashtag\", y = \"Count\")\n",
        "ax.set(ylabel = 'Count')\n",
        "plt.show()"
      ],
      "metadata": {
        "id": "8ZUySjWGUjB4"
      },
      "execution_count": null,
      "outputs": []
    },
    {
      "cell_type": "markdown",
      "source": [
        "**Observatation:**\n",
        "\n",
        "1]trump word tweeted most of the time with # trend.\n",
        "\n",
        "2]hate word tweeted mininmum time with # trend"
      ],
      "metadata": {
        "id": "x5qoSCJM_2o3"
      }
    },
    {
      "cell_type": "code",
      "source": [
        "plt.figure(figsize=(10, 6))\n",
        "color = sns.color_palette()[0]\n",
        "order = df2['label'].value_counts().index\n",
        "ax = sns.countplot(data=df2, x='label', color=color, order=order)\n",
        "plt.xlabel('label')\n",
        "plt.ylabel('Count of Feedback')\n",
        "plt.title('Feedback Count by Course Code')\n",
        "plt.xticks(rotation=45)\n",
        "ax.bar_label(ax.containers[0], fmt='%.0f', label_type='edge')\n",
        "plt.show()\n"
      ],
      "metadata": {
        "id": "4XWShvsMVdX8"
      },
      "execution_count": null,
      "outputs": []
    },
    {
      "cell_type": "code",
      "source": [
        " # Pie chart for Gender distribution\n",
        "counts = df2['label'].value_counts()\n",
        "labels = [f\"{label}\\n{count / len(df2) * 100:.1f}%\" for label, count in counts.items()]\n",
        "fig, ax = plt.subplots()\n",
        "ax.pie(counts, labels=labels, startangle=50, counterclock=False, pctdistance=0.8, labeldistance=1.2)\n",
        "centre_circle = plt.Circle((0,0),0.70,fc='white')\n",
        "fig.gca().add_artist(centre_circle)\n",
        "ax.set_title('label Distribution', fontsize=16, loc='left', pad=30)\n",
        "ax.axis('equal')\n",
        "plt.show()"
      ],
      "metadata": {
        "id": "OWFi9tmAWIql"
      },
      "execution_count": null,
      "outputs": []
    },
    {
      "cell_type": "code",
      "source": [
        "import sklearn\n",
        "from sklearn.feature_extraction.text import CountVectorizer\n",
        "vectorizer = CountVectorizer()\n",
        "\n",
        "\n",
        "# Importing CountVectorizer in order to implement the Bag of words model.\n",
        "import pandas as pd\n",
        "vectorizer = CountVectorizer(max_df=0.90, min_df=2,max_features=1000,stop_words='english')\n",
        "count_matrix = vectorizer.fit_transform(df2[\"tweet\"])\n",
        "count_array = count_matrix.toarray()\n",
        "BOW_df2= pd.DataFrame(data=count_array,columns = vectorizer.vocabulary_.keys())\n",
        "print(BOW_df2)"
      ],
      "metadata": {
        "id": "n584SVBsUvvs"
      },
      "execution_count": null,
      "outputs": []
    },
    {
      "cell_type": "code",
      "source": [
        "count_array[0]"
      ],
      "metadata": {
        "id": "YfHZSHdnKaLv"
      },
      "execution_count": null,
      "outputs": []
    },
    {
      "cell_type": "code",
      "source": [
        "print(count_matrix)"
      ],
      "metadata": {
        "id": "lxqPsFnKVKE8"
      },
      "execution_count": null,
      "outputs": []
    },
    {
      "cell_type": "code",
      "source": [
        "BOW_df2.shape"
      ],
      "metadata": {
        "id": "1UCe_bwWVNHk"
      },
      "execution_count": null,
      "outputs": []
    },
    {
      "cell_type": "code",
      "source": [
        "from sklearn.feature_extraction.text import CountVectorizer\n",
        "bow_vectorizer = CountVectorizer(max_df=0.90, min_df=2,max_features=1000,stop_words='english')\n",
        "# bag-of-words feature matrix\n",
        "bow = bow_vectorizer.fit_transform(df2['tweet'])\n",
        "bow_array=bow.toarray()\n",
        "df2=pd.DataFrame(data=bow_array,columns=bow_vectorizer.vocabulary_.keys())\n"
      ],
      "metadata": {
        "id": "YBwP2TjYVTqr"
      },
      "execution_count": null,
      "outputs": []
    },
    {
      "cell_type": "code",
      "source": [
        "df2.shape"
      ],
      "metadata": {
        "id": "-qZ68TDscndX"
      },
      "execution_count": null,
      "outputs": []
    },
    {
      "cell_type": "code",
      "source": [
        "df2"
      ],
      "metadata": {
        "id": "s4FlJyIBVEDH"
      },
      "execution_count": null,
      "outputs": []
    },
    {
      "cell_type": "code",
      "source": [
        "train_bow_data=df2.iloc[:31962,:]\n",
        "infer_bow_data=df2.iloc[31962:,:]"
      ],
      "metadata": {
        "id": "tzNWaX8AcEE_"
      },
      "execution_count": null,
      "outputs": []
    },
    {
      "cell_type": "code",
      "source": [
        "infer_bow_data.to_csv(\"infer_bow_data.csv\",index=False)"
      ],
      "metadata": {
        "id": "rgY_DY3fRuY3"
      },
      "execution_count": null,
      "outputs": []
    },
    {
      "cell_type": "code",
      "source": [
        "train_bow_data.shape"
      ],
      "metadata": {
        "id": "6kJEvPFOcaqr"
      },
      "execution_count": null,
      "outputs": []
    },
    {
      "cell_type": "code",
      "source": [
        "df_train[\"label\"].value_counts()"
      ],
      "metadata": {
        "id": "x8ZIVxj4VU5a"
      },
      "execution_count": null,
      "outputs": []
    },
    {
      "cell_type": "code",
      "source": [
        "from imblearn.over_sampling import RandomOverSampler\n",
        "# Assuming X contains the independent features and y contains the dependent variable\n",
        "\n",
        "# Step 5: Apply oversampling techniques (Random Oversampling)\n",
        "ros = RandomOverSampler(random_state=42)\n",
        "X_train_minority_oversampled, y_train_minority_oversampled = ros.fit_resample(train_bow_data,df_train[\"label\"])\n"
      ],
      "metadata": {
        "id": "A7lYrC098s4L"
      },
      "execution_count": null,
      "outputs": []
    },
    {
      "cell_type": "code",
      "source": [
        "print(X_train_minority_oversampled.shape)\n",
        "y_train_minority_oversampled.value_counts()"
      ],
      "metadata": {
        "id": "8APa5gJI9Cq7"
      },
      "execution_count": null,
      "outputs": []
    },
    {
      "cell_type": "code",
      "source": [
        "df2=pd.concat([X_train_minority_oversampled, y_train_minority_oversampled],axis=1)"
      ],
      "metadata": {
        "id": "vGuSOR74pj9f"
      },
      "execution_count": null,
      "outputs": []
    },
    {
      "cell_type": "code",
      "source": [
        "df2"
      ],
      "metadata": {
        "id": "Vy7x6NxsrD9m"
      },
      "execution_count": null,
      "outputs": []
    },
    {
      "cell_type": "code",
      "source": [
        "type(y_train_minority_oversampled)"
      ],
      "metadata": {
        "id": "SixccjjSaPQj"
      },
      "execution_count": null,
      "outputs": []
    },
    {
      "cell_type": "code",
      "source": [
        "plt.figure(figsize=(10, 6))\n",
        "color = sns.color_palette()[0]\n",
        "order = y_train_minority_oversampled.value_counts().index\n",
        "ax = sns.countplot(data=df2, x='label', color=color, order=order)\n",
        "plt.xlabel('label')\n",
        "plt.ylabel('Count of Feedback')\n",
        "plt.title('Feedback Count by Course Code')\n",
        "plt.xticks(rotation=45)\n",
        "ax.bar_label(ax.containers[0], fmt='%.0f', label_type='edge')\n",
        "plt.show()\n"
      ],
      "metadata": {
        "id": "jeOsNgePX4Ss"
      },
      "execution_count": null,
      "outputs": []
    },
    {
      "cell_type": "markdown",
      "source": [
        "# **Model fitting on the data**"
      ],
      "metadata": {
        "id": "RrsCiGvydW_2"
      }
    },
    {
      "cell_type": "markdown",
      "source": [
        "# **MOdel1-Logistice Regression using BOW**"
      ],
      "metadata": {
        "id": "2mhWZNwEcznE"
      }
    },
    {
      "cell_type": "code",
      "source": [
        "from sklearn.linear_model import LogisticRegression\n",
        "from sklearn.model_selection import train_test_split\n",
        "from sklearn.metrics import f1_score\n",
        "\n",
        "X_train,X_test,y_train,y_test=train_test_split(X_train_minority_oversampled,y_train_minority_oversampled,random_state=0,test_size=0.30)\n",
        "lreg=LogisticRegression()\n",
        "lreg.fit(X_train,y_train)\n",
        "y_pred_train=lreg.predict(X_train)\n",
        "\n",
        "prediction = lreg.predict_proba(X_train)\n",
        "train_proba = prediction[:,1] >= 0.3 # if prediction is greater than or equal to 0.3 than 1 else 0\n",
        "pred_train_proba= train_proba.astype(int)\n",
        "print(f1_score(y_train, pred_train_proba))\n",
        "\n",
        "prediction = lreg.predict_proba(X_test)\n",
        "train_proba = prediction[:,1] >= 0.3 # if prediction is greater than or equal to 0.3 than 1 else 0\n",
        "pred_test_proba= train_proba.astype(int)\n",
        "y_pred_test=lreg.predict(X_test)\n",
        "print(f1_score(y_test, pred_test_proba))\n",
        "\n",
        "\n",
        "\n",
        "\n",
        "\n"
      ],
      "metadata": {
        "id": "MyLbSkpQdWbn"
      },
      "execution_count": null,
      "outputs": []
    },
    {
      "cell_type": "code",
      "source": [
        "X1_train_minority_oversampled=X_train_minority_oversampled.copy()\n",
        "y1_train_minority_oversampled=y_train_minority_oversampled.copy()"
      ],
      "metadata": {
        "id": "i_BrHddgGJkq"
      },
      "execution_count": null,
      "outputs": []
    },
    {
      "cell_type": "code",
      "source": [
        "X_train,X_test,y_train,y_test=train_test_split(X1_train_minority_oversampled,y1_train_minority_oversampled,test_size=0.10,random_state=0)\n",
        "X_train1,X_val1,y_train1,y_val1=train_test_split(X_train,y_train,test_size=0.10,random_state=0)"
      ],
      "metadata": {
        "id": "WwC9g_QpGg0x"
      },
      "execution_count": null,
      "outputs": []
    },
    {
      "cell_type": "code",
      "source": [
        "print(X_train.shape)\n",
        "print(X_test.shape)\n",
        "print(X_val1.shape)\n",
        "print(y_val1.shape)\n",
        "print(X_train1.shape)\n",
        "print(X_test.shape)"
      ],
      "metadata": {
        "id": "-uxpYsHTGv7m"
      },
      "execution_count": null,
      "outputs": []
    },
    {
      "cell_type": "code",
      "source": [],
      "metadata": {
        "id": "CQfIA9EJOtYN"
      },
      "execution_count": null,
      "outputs": []
    },
    {
      "cell_type": "code",
      "source": [
        "X_val1.to_csv(\"X_val1.csv\",index=False)\n"
      ],
      "metadata": {
        "id": "GffQgd-JJ315"
      },
      "execution_count": null,
      "outputs": []
    },
    {
      "cell_type": "code",
      "source": [
        "y_val1.to_csv(\"y_val1.csv\",index=False)"
      ],
      "metadata": {
        "id": "yIe6TZ0GKMzi"
      },
      "execution_count": null,
      "outputs": []
    },
    {
      "cell_type": "code",
      "source": [
        "X_train.to_csv(\"X_train.csv\",index=False)\n",
        "X_test.to_csv(\"X_test.csv\",index=False)\n",
        "y_train.to_csv(\"y_train.csv\",index=False)\n",
        "y_test.to_csv(\"y_test.csv\",index=False)\n",
        "X_train1.to_csv(\"X_train1.csv\",index=False)\n",
        "y_train1.to_csv(\"y_train1.csv\",index=False)"
      ],
      "metadata": {
        "id": "4x-zajo1LF0k"
      },
      "execution_count": null,
      "outputs": []
    },
    {
      "cell_type": "code",
      "source": [
        "print(X_train.shape)"
      ],
      "metadata": {
        "id": "x98Pyt34QoXe"
      },
      "execution_count": null,
      "outputs": []
    },
    {
      "cell_type": "code",
      "source": [
        "print(X_train1.shape)"
      ],
      "metadata": {
        "id": "Mrih5ErkQrqe"
      },
      "execution_count": null,
      "outputs": []
    },
    {
      "cell_type": "code",
      "source": [
        "type(X_train)"
      ],
      "metadata": {
        "id": "VjZG8dkm1U0Q"
      },
      "execution_count": null,
      "outputs": []
    },
    {
      "cell_type": "code",
      "source": [
        "from lightgbm import LGBMClassifier\n",
        "model=LGBMClassifier()\n",
        "model.fit(X_train,y_train)"
      ],
      "metadata": {
        "id": "ZzVabnk6Prwh"
      },
      "execution_count": null,
      "outputs": []
    },
    {
      "cell_type": "code",
      "source": [
        "y_pred_train= model.predict(X_train)\n",
        "y_pred_test= model.predict(X_test)\n",
        "print(f1_score(y_train,y_pred_train))\n",
        "print(f1_score(y_test, y_pred_test))"
      ],
      "metadata": {
        "id": "ui7uEALUrfxO"
      },
      "execution_count": null,
      "outputs": []
    },
    {
      "cell_type": "markdown",
      "source": [
        "# **Evaluation of performance of Logistic Regression**"
      ],
      "metadata": {
        "id": "2HZcNe9Uc63E"
      }
    },
    {
      "cell_type": "code",
      "source": [
        "from sklearn.metrics import confusion_matrix\n",
        "from sklearn.metrics import accuracy_score, precision_score, recall_score, f1_score\n",
        "cm = confusion_matrix(y_test,y_pred_test)\n",
        "sns.heatmap(cm,\n",
        "            annot=True,\n",
        "            fmt='g',\n",
        "            xticklabels=['y_test', 'y_pred_test'],\n",
        "            yticklabels=['y_test', 'y_pred_test'])\n",
        "plt.ylabel('Prediction',fontsize=13)\n",
        "plt.xlabel('Actual',fontsize=13)\n",
        "plt.title('Confusion Matrix',fontsize=17)\n",
        "plt.show()\n",
        "\n",
        "\n",
        "# Finding precision and recall\n",
        "accuracy = accuracy_score(y_test, y_pred_test)\n",
        "print(\"Accuracy   :\", accuracy)\n",
        "precision = precision_score(y_test, y_pred_test)\n",
        "print(\"Precision :\", precision)\n",
        "recall = recall_score(y_test,y_pred_test)"
      ],
      "metadata": {
        "id": "KMW-8mmZRfzj"
      },
      "execution_count": null,
      "outputs": []
    },
    {
      "cell_type": "markdown",
      "source": [
        "# **Predicting Inference data using logistic regression**"
      ],
      "metadata": {
        "id": "8J-zXqGEIhhu"
      }
    },
    {
      "cell_type": "code",
      "source": [
        "pred_infer_bow=lreg.predict_proba(infer_bow_data)\n",
        "pred_infer_bow_int=pred_infer_bow[:,1]>=0.3\n",
        "pred_infer_bow_int=pred_infer_bow_int.astype(int)\n",
        "print(pred_infer_bow_int)\n",
        "print(pred_infer_bow_int.shape)"
      ],
      "metadata": {
        "id": "AJ_ufi7XHCcU"
      },
      "execution_count": null,
      "outputs": []
    },
    {
      "cell_type": "markdown",
      "source": [
        "# **Model2-RandomForest model**"
      ],
      "metadata": {
        "id": "T1yJ2wwLkO5O"
      }
    },
    {
      "cell_type": "code",
      "source": [
        "from sklearn.ensemble import RandomForestClassifier\n",
        "rf = RandomForestClassifier(n_estimators=1000,max_depth=100,random_state=0).fit(X_train, y_train)\n",
        "y_pred_train= rf.predict(X_train)\n",
        "y_pred_test= rf.predict(X_test)\n",
        "print(f1_score(y_train,y_pred_train))\n",
        "print(f1_score(y_test, y_pred_test))"
      ],
      "metadata": {
        "id": "7ldwOmlKkMv4"
      },
      "execution_count": null,
      "outputs": []
    },
    {
      "cell_type": "markdown",
      "source": [
        "# **Predicting Inference data on RandomForest model**"
      ],
      "metadata": {
        "id": "Kz5PUCC6TY2e"
      }
    },
    {
      "cell_type": "code",
      "source": [
        "pred_infer_bow=rf.predict_proba(infer_bow_data)\n",
        "pred_infer_bow_int=pred_infer_bow[:,1]>=0.3\n",
        "pred_infer_bow_int=pred_infer_bow_int.astype(int)\n",
        "print(pred_infer_bow_int)\n",
        "print(pred_infer_bow_int.shape)"
      ],
      "metadata": {
        "id": "8wxqgr0ASwJM"
      },
      "execution_count": null,
      "outputs": []
    },
    {
      "cell_type": "markdown",
      "source": [
        "# **Model3-SVM Model**"
      ],
      "metadata": {
        "id": "srku_Qxi_GQD"
      }
    },
    {
      "cell_type": "code",
      "source": [
        "import matplotlib.pyplot as plt\n",
        "from sklearn.inspection import DecisionBoundaryDisplay\n",
        "from sklearn.svm import SVC\n",
        "from sklearn.metrics import accuracy_score"
      ],
      "metadata": {
        "id": "crzxUfbC_eeZ"
      },
      "execution_count": null,
      "outputs": []
    },
    {
      "cell_type": "code",
      "source": [
        "from sklearn import svm\n",
        "svc=svm.SVC(kernel=\"linear\",C=1,probability=True).fit(X_train,y_train)\n",
        "y_pred_train_svm=svc.predict_proba(X_train)\n",
        "y_pred_train_svm_int=y_pred_train_svm[:,1]>=0.3\n",
        "y_pred_train_svm_int=y_pred_train_svm_int.astype(int)\n",
        "print(f1_score(y_train,y_pred_train_svm_int))\n",
        "\n",
        "y_pred_test_svm=svc.predict_proba(X_test)\n",
        "y_pred_test_svm_int=y_pred_test_svm[:,1]>=0.3\n",
        "y_pred_test_svm_int=y_pred_test_svm_int.astype(int)\n",
        "f1_score(y_test,y_pred_test_svm_int)\n"
      ],
      "metadata": {
        "id": "HxqHkzIaqpaw"
      },
      "execution_count": null,
      "outputs": []
    },
    {
      "cell_type": "markdown",
      "source": [
        "# **Predciting Inference data on SVM**"
      ],
      "metadata": {
        "id": "a7P4ZkJ3TVwH"
      }
    },
    {
      "cell_type": "code",
      "source": [
        "pred_infer_bow=svc.predict_proba(infer_bow_data)\n",
        "pred_infer_bow_int=pred_infer_bow[:,1]>=0.3\n",
        "pred_infer_bow_int=pred_infer_bow_int.astype(np.int)\n",
        "print(pred_infer_bow_int)\n",
        "print(pred_infer_bow_int.shape)"
      ],
      "metadata": {
        "id": "WUNDdTeoTVEO"
      },
      "execution_count": null,
      "outputs": []
    },
    {
      "cell_type": "code",
      "source": [
        "from xgboost import XGBClassifier\n",
        "xgb_model = XGBClassifier(max_depth=3, n_estimators=1000).fit(X_train,y_train)\n",
        "y_pred_train= xgb_model.predict(X_train)\n",
        "y_pred_test = xgb_model.predict(X_test)\n",
        "print(f1_score(y_train, y_pred_train))\n",
        "print(f1_score(y_test, y_pred_test))"
      ],
      "metadata": {
        "id": "EvKaVOYEYTnU"
      },
      "execution_count": null,
      "outputs": []
    },
    {
      "cell_type": "markdown",
      "source": [
        "# **Predciting Inference data on XGBoost**"
      ],
      "metadata": {
        "id": "KmH_iDhGTmHG"
      }
    },
    {
      "cell_type": "code",
      "source": [
        "pred_infer_bow=xgb_model.predict_proba(infer_bow_data)\n",
        "pred_infer_bow_int=pred_infer_bow[:,1]>=0.3\n",
        "pred_infer_bow_int=pred_infer_bow_int.astype(np.int)\n",
        "print(pred_infer_bow_int)\n",
        "print(pred_infer_bow_int.shape)"
      ],
      "metadata": {
        "id": "ueONuGr1TrWH"
      },
      "execution_count": null,
      "outputs": []
    },
    {
      "cell_type": "code",
      "source": [
        "# # Importing Required Library\n",
        "# import lightgbm as lgb\n",
        "\n",
        "# # Similarly LGBMRegressor can also be imported for a regression model.\n",
        "# from lightgbm import LGBMClassifier\n",
        "# model=LGBMClassifier()\n",
        "\n",
        "# model.fit(X_train,y_train)\n",
        "# y_pred_train=model.predict_proba(X_train)\n",
        "# y_pred_train_int=y_pred_train[:,1]>=0.3\n",
        "# y_pred_train_svm_int=y_pred_train_int.astype(np.int)\n",
        "# print(f1_score(y_train,y_pred_train_int))\n",
        "\n",
        "# y_pred_test=svc.predict_proba(X_test)\n",
        "# y_pred_test_int=y_pred_test[:,1]>=0.3\n",
        "# y_pred_test_int=y_pred_test_int.astype(np.int)\n",
        "# f1_score(y_test,y_pred_test_svm_int)"
      ],
      "metadata": {
        "id": "dhmG2ArRPzL6"
      },
      "execution_count": null,
      "outputs": []
    },
    {
      "cell_type": "markdown",
      "source": [
        "# **TF-Idf**"
      ],
      "metadata": {
        "id": "ofC5C817GkoQ"
      }
    },
    {
      "cell_type": "code",
      "source": [
        "df4=df2.copy()"
      ],
      "metadata": {
        "id": "HyFSLRCAWRH_"
      },
      "execution_count": null,
      "outputs": []
    },
    {
      "cell_type": "code",
      "source": [
        "from sklearn.feature_extraction.text import TfidfVectorizer"
      ],
      "metadata": {
        "id": "JDVYUesgKU55"
      },
      "execution_count": null,
      "outputs": []
    },
    {
      "cell_type": "code",
      "source": [
        "vectorizer = TfidfVectorizer()\n",
        "tfidf= vectorizer.fit_transform(df2[\"tweet\"])"
      ],
      "metadata": {
        "id": "DkvQAtCzGkTI"
      },
      "execution_count": null,
      "outputs": []
    },
    {
      "cell_type": "code",
      "source": [
        "from imblearn.over_sampling import RandomOverSampler"
      ],
      "metadata": {
        "id": "5Z00hHycWH2_"
      },
      "execution_count": null,
      "outputs": []
    },
    {
      "cell_type": "code",
      "source": [
        "train_tfidf_data=tfidf[:31962,:]\n",
        "infer_tfidf_data=tfidf[31962:,:]"
      ],
      "metadata": {
        "id": "m3k5pqe2GXtY"
      },
      "execution_count": null,
      "outputs": []
    },
    {
      "cell_type": "markdown",
      "source": [
        "# **Applying Logistic Regression using TFIDF**"
      ],
      "metadata": {
        "id": "Gjdy1atGgZWq"
      }
    },
    {
      "cell_type": "code",
      "source": [
        "from sklearn.linear_model import LogisticRegression\n",
        "from sklearn.model_selection import train_test_split\n",
        "from sklearn.metrics import f1_score\n",
        "X_train_tfidf,X_test_tfidf,y_train_tfidf,y_test_tfidf=train_test_split(X_train_minority_oversampled, y_train_minority_oversampled,test_size=0.30,random_state=0)\n",
        "\n",
        "lreg=LogisticRegression()\n",
        "lreg.fit(X_train_tfidf,y_train_tfidf)\n",
        "y_pred_train=lreg.predict(X_train_tfidf)\n",
        "\n",
        "prediction = lreg.predict_proba(X_train_tfidf)\n",
        "train_proba = prediction[:,1] >= 0.3 # if prediction is greater than or equal to 0.3 than 1 else 0\n",
        "pred_train_proba= train_proba.astype(np.int)\n",
        "print(f1_score(y_train_tfidf, pred_train_proba))\n",
        "\n",
        "prediction = lreg.predict_proba(X_test_tfidf)\n",
        "train_proba = prediction[:,1] >= 0.3 # if prediction is greater than or equal to 0.3 than 1 else 0\n",
        "pred_test_proba= train_proba.astype(np.int)\n",
        "y_pred_test=lreg.predict(X_test_tfidf)\n",
        "print(f1_score(y_test_tfidf, pred_test_proba))\n"
      ],
      "metadata": {
        "id": "IKec3QprMhcJ"
      },
      "execution_count": null,
      "outputs": []
    },
    {
      "cell_type": "markdown",
      "source": [
        "# **Predicting Inference data on logistic regression**"
      ],
      "metadata": {
        "id": "AtvEKZcVT6x5"
      }
    },
    {
      "cell_type": "code",
      "source": [
        "pred_infer_bow=lreg.predict_proba(infer_bow_data)\n",
        "pred_infer_bow_int=pred_infer_bow[:,1]>=0.3\n",
        "pred_infer_bow_int=pred_infer_bow_int.astype(np.int)\n",
        "print(pred_infer_bow_int)\n",
        "print(pred_infer_bow_int.shape)"
      ],
      "metadata": {
        "id": "xujwmzdgT6OQ"
      },
      "execution_count": null,
      "outputs": []
    },
    {
      "cell_type": "markdown",
      "source": [
        "# **Applying svm using TFIDF**"
      ],
      "metadata": {
        "id": "05nmT4Y9RDnB"
      }
    },
    {
      "cell_type": "code",
      "source": [
        "from sklearn import svm\n",
        "svc=svm.SVC(kernel=\"rbf\",C=0.1,probability=True,gamma=0.0001).fit(X_train_tfidf,y_train_tfidf)\n",
        "y_pred_train_svm=svc.predict_proba(X_train_tfidf)\n",
        "y_pred_train_svm_int=y_pred_train_svm[:,1]>=0.3\n",
        "y_pred_train_svm_int=y_pred_train_svm_int.astype(np.int)\n",
        "print(f1_score(y_train_tfidf,y_pred_train_svm_int))\n",
        "\n",
        "y_pred_test_svm=svc.predict_proba(X_test_tfidf)\n",
        "y_pred_test_svm_int=y_pred_test_svm[:,1]>=0.3\n",
        "y_pred_test_svm_int=y_pred_test_svm_int.astype(np.int)\n",
        "f1_score(y_test_tfidf,y_pred_test_svm_int)"
      ],
      "metadata": {
        "id": "Etc6tPB-MhZB"
      },
      "execution_count": null,
      "outputs": []
    },
    {
      "cell_type": "code",
      "source": [
        "pred_infer_bow=svc.predict_proba(infer_bow_data)\n",
        "pred_infer_bow_int=pred_infer_bow[:,1]>=0.3\n",
        "pred_infer_bow_int=pred_infer_bow_int.astype(np.int)\n",
        "print(pred_infer_bow_int)\n",
        "print(pred_infer_bow_int.shape)"
      ],
      "metadata": {
        "id": "jOnEoczBUFmH"
      },
      "execution_count": null,
      "outputs": []
    },
    {
      "cell_type": "code",
      "source": [
        "from xgboost import XGBClassifier\n",
        "xgb_model = XGBClassifier(max_depth=3, n_estimators=1000).fit(X_train_tfidf,y_train_tfidf)\n",
        "y_pred_train_xgb_model =xgb_model.predict_proba(X_train_tfidf)\n",
        "y_pred_train_xgb_model_int=y_pred_train_xgb_model[:,1]>=0.3\n",
        "y_pred_train_xgb_model_int=y_pred_train_xgb_model_int.astype(np.int)\n",
        "print(f1_score(y_train_tfidf,y_pred_train_xgb_model_int))\n",
        "\n",
        "y_pred_test_xgb_model =xgb_model.predict_proba(X_test_tfidf)\n",
        "y_pred_test_xgb_model_int=y_pred_test_xgb_model[:,1]>=0.3\n",
        "y_pred_test_xgb_model_int=y_pred_test_xgb_model_int.astype(np.int)\n",
        "f1_score(y_test_tfidf,y_pred_test_svm_int)"
      ],
      "metadata": {
        "id": "YFLzV2ZiLbdm"
      },
      "execution_count": null,
      "outputs": []
    },
    {
      "cell_type": "markdown",
      "source": [
        "# **Predicting Inference data on svm**"
      ],
      "metadata": {
        "id": "X_9XaMaFUMZz"
      }
    },
    {
      "cell_type": "code",
      "source": [
        "pred_infer_bow=xgb_model.predict_proba(infer_bow_data)\n",
        "pred_infer_bow_int=pred_infer_bow[:,1]>=0.3\n",
        "pred_infer_bow_int=pred_infer_bow_int.astype(np.int)\n",
        "print(pred_infer_bow_int)\n",
        "print(pred_infer_bow_int.shape)"
      ],
      "metadata": {
        "id": "7ak3ELtUUL9D"
      },
      "execution_count": null,
      "outputs": []
    },
    {
      "cell_type": "markdown",
      "source": [
        "# **Final conclusion**"
      ],
      "metadata": {
        "id": "mDEc35w3RZMl"
      }
    },
    {
      "cell_type": "code",
      "source": [],
      "metadata": {
        "id": "Z0b40fzHRYrs"
      },
      "execution_count": null,
      "outputs": []
    },
    {
      "cell_type": "markdown",
      "source": [
        "# **BERT implemetation**"
      ],
      "metadata": {
        "id": "q2PBYKeAcYwO"
      }
    },
    {
      "cell_type": "code",
      "source": [
        "! pip install bert-serving-server\n",
        "! pip install bert-serving-client"
      ],
      "metadata": {
        "id": "Jahc6Vm3cv1W"
      },
      "execution_count": null,
      "outputs": []
    },
    {
      "cell_type": "code",
      "source": [
        "\n",
        "# from bert_serving.client import BertClient\n",
        "\n",
        "# # make a connection with the BERT server using it's ip address\n",
        "# bc = BertClient()\n",
        "# # get the embedding for train and val sets\n",
        "# X_train_bert = bc.encode(X_train.tolist())\n",
        "# X_test_bert = bc.encode(X_test.tolist())\n",
        "# from sklearn.linear_model import LogisticRegression\n",
        "\n",
        "# # LR model\n",
        "# model_bert = LogisticRegression()\n",
        "# # train\n",
        "# model_bert = model_bert.fit(X_train_bert, y_train)\n",
        "# # predict\n",
        "# pred_bert_train = model_bert.predict(X_train_bert)\n",
        "# pred_bert_test = model_bert.predict(X_test_bert)\n",
        "\n",
        "# print(f1_score(y_train, pred_bert_train))\n",
        "# print(f1_score(y_test, pred_bert_test))"
      ],
      "metadata": {
        "id": "T66vLmXAb32O"
      },
      "execution_count": null,
      "outputs": []
    },
    {
      "cell_type": "code",
      "source": [],
      "metadata": {
        "id": "N9fKvtUaM8kX"
      },
      "execution_count": null,
      "outputs": []
    }
  ]
}